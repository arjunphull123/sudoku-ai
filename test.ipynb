{
 "cells": [
  {
   "cell_type": "markdown",
   "metadata": {},
   "source": [
    "<h1>Sudoku Solving Agents!</h1>"
   ]
  },
  {
   "cell_type": "markdown",
   "metadata": {},
   "source": [
    "Arjun Phull, ISTA 450 Final Project, 13 December 2023"
   ]
  },
  {
   "cell_type": "code",
   "execution_count": 1,
   "metadata": {},
   "outputs": [],
   "source": [
    "from main import *"
   ]
  },
  {
   "cell_type": "markdown",
   "metadata": {},
   "source": [
    "<code>main.py</code> implements the class <code>SudokuGame</code> and three solving algorithms. This notebook explains how to use them and compares their performance."
   ]
  },
  {
   "cell_type": "markdown",
   "metadata": {},
   "source": [
    "Let's first define some Sudoku boards:"
   ]
  },
  {
   "cell_type": "code",
   "execution_count": 2,
   "metadata": {},
   "outputs": [
    {
     "data": {
      "text/plain": [
       "array([[5, '_', 4, '_', 7, 8, '_', '_', 2],\n",
       "       ['_', '_', 2, '_', 9, '_', 3, 4, 8],\n",
       "       [1, 9, 8, '_', 4, 2, 5, 6, 7],\n",
       "       [8, 5, 9, 7, 6, '_', '_', 2, 3],\n",
       "       [4, 2, 6, '_', 5, '_', 7, '_', 1],\n",
       "       [7, 1, 3, 9, 2, 4, 8, 5, 6],\n",
       "       [9, 6, 1, 5, '_', 7, 2, '_', 4],\n",
       "       ['_', 8, 7, 4, 1, 9, 6, 3, 5],\n",
       "       [3, '_', '_', '_', 8, 6, 1, 7, 9]], dtype=object)"
      ]
     },
     "execution_count": 2,
     "metadata": {},
     "output_type": "execute_result"
    }
   ],
   "source": [
    "# load in pre-generated sudoku boards\n",
    "with open('testBoards.pickle', 'rb') as file:\n",
    "    boards = pickle.load(file)\n",
    "\n",
    "board1 = boards[20][1].copy()\n",
    "board1"
   ]
  },
  {
   "cell_type": "markdown",
   "metadata": {},
   "source": [
    "<code>board1</code> is a partially filled Sudoku board with 20 open cells. <code>sol1</code> is its solution. We can import this board into a <code>SudokuGame</code> easily:"
   ]
  },
  {
   "cell_type": "code",
   "execution_count": 3,
   "metadata": {},
   "outputs": [
    {
     "name": "stdout",
     "output_type": "stream",
     "text": [
      " 5  _  4  _  7  8  _  _  2\n",
      " _  _  2  _  9  _  3  4  8\n",
      " 1  9  8  _  4  2  5  6  7\n",
      " 8  5  9  7  6  _  _  2  3\n",
      " 4  2  6  _  5  _  7  _  1\n",
      " 7  1  3  9  2  4  8  5  6\n",
      " 9  6  1  5  _  7  2  _  4\n",
      " _  8  7  4  1  9  6  3  5\n",
      " 3  _  _  _  8  6  1  7  9\n"
     ]
    }
   ],
   "source": [
    "game = SudokuGame(board1.copy())\n",
    "game.printBoard()"
   ]
  },
  {
   "cell_type": "markdown",
   "metadata": {},
   "source": [
    "The first solving algorithm is local search, implemented in <code>minConflicts</code>. This algorithm randomly assigns values to each empty cell. Then, it chooses a random cell and changes its value to the value that minimizes the total amount of conflicts. The algorithm repeats until a solution is found or a maximum number of iterations is reached."
   ]
  },
  {
   "cell_type": "code",
   "execution_count": 4,
   "metadata": {},
   "outputs": [
    {
     "name": "stderr",
     "output_type": "stream",
     "text": [
      "minConflicts:   1%|▏         | 71/5000 [00:00<00:16, 304.03it/s]"
     ]
    },
    {
     "name": "stdout",
     "output_type": "stream",
     "text": [
      "Solved the board in 71 steps.\n",
      " 5  3  4  6  7  8  9  1  2\n",
      " 6  7  2  1  9  5  3  4  8\n",
      " 1  9  8  3  4  2  5  6  7\n",
      " 8  5  9  7  6  1  4  2  3\n",
      " 4  2  6  8  5  3  7  9  1\n",
      " 7  1  3  9  2  4  8  5  6\n",
      " 9  6  1  5  3  7  2  8  4\n",
      " 2  8  7  4  1  9  6  3  5\n",
      " 3  4  5  2  8  6  1  7  9\n"
     ]
    },
    {
     "name": "stderr",
     "output_type": "stream",
     "text": [
      "\n"
     ]
    }
   ],
   "source": [
    "game1 = SudokuGame(board1.copy())\n",
    "\n",
    "# run minConflicts\n",
    "conflictLog = minConflicts(game1, maxSteps=5000, plateauThreshold=20)"
   ]
  },
  {
   "cell_type": "markdown",
   "metadata": {},
   "source": [
    "<code>minConflicts</code> relies on random choice, so finding the solution to the same Sudoku board may take drastically different amounts of steps between runs. Additionally, since the assignments are random, <code>minConflicts</code> may never actually find the solution."
   ]
  },
  {
   "cell_type": "markdown",
   "metadata": {},
   "source": [
    "A more efficient approach is backtracking, as implemented in <code>backtrackingSearch</code>. This algorithm recursively assigns values to the first empty cell on the board. If a value assignment causes a conflict, the algorithm backtracks, reverses the assignment, and tries a new variable. Backtracking is guaranteed to find a solution!"
   ]
  },
  {
   "cell_type": "code",
   "execution_count": 5,
   "metadata": {},
   "outputs": [
    {
     "name": "stdout",
     "output_type": "stream",
     "text": [
      "Solution found in 20 steps!\n",
      " 5  3  4  6  7  8  9  1  2\n",
      " 6  7  2  1  9  5  3  4  8\n",
      " 1  9  8  3  4  2  5  6  7\n",
      " 8  5  9  7  6  1  4  2  3\n",
      " 4  2  6  8  5  3  7  9  1\n",
      " 7  1  3  9  2  4  8  5  6\n",
      " 9  6  1  5  3  7  2  8  4\n",
      " 2  8  7  4  1  9  6  3  5\n",
      " 3  4  5  2  8  6  1  7  9\n",
      "Backtracking found the solution in 0.006609201431274414 seconds.\n"
     ]
    }
   ],
   "source": [
    "game2 = SudokuGame(board1.copy())\n",
    "\n",
    "# run backtracking\n",
    "solution, timeElapsed = backtrackingSearch(game2)\n",
    "print(f\"Backtracking found the solution in {timeElapsed} seconds.\")"
   ]
  },
  {
   "cell_type": "markdown",
   "metadata": {},
   "source": [
    "Unlike <code>minConflicts</code>, backtracking can easily handle complex puzzles, such as this Sudoku board with 57 blank spaces:"
   ]
  },
  {
   "cell_type": "code",
   "execution_count": 6,
   "metadata": {},
   "outputs": [
    {
     "name": "stdout",
     "output_type": "stream",
     "text": [
      " 5  _  4  6  _  _  _  1  2\n",
      " _  _  _  _  _  _  _  _  _\n",
      " _  9  _  3  4  _  _  _  _\n",
      " _  5  _  _  _  _  _  _  _\n",
      " _  2  6  _  5  _  _  9  _\n",
      " 7  _  _  _  2  _  _  _  6\n",
      " _  _  1  5  _  7  _  _  _\n",
      " _  _  7  _  _  _  _  3  _\n",
      " 3  _  _  _  _  _  1  7  _\n",
      "\n",
      "\n",
      "Solution found in 57 steps!\n",
      " 5  3  4  6  7  8  9  1  2\n",
      " 1  7  8  2  9  5  3  6  4\n",
      " 6  9  2  3  4  1  5  8  7\n",
      " 4  5  9  1  8  6  7  2  3\n",
      " 8  2  6  7  5  3  4  9  1\n",
      " 7  1  3  4  2  9  8  5  6\n",
      " 2  8  1  5  3  7  6  4  9\n",
      " 9  6  7  8  1  4  2  3  5\n",
      " 3  4  5  9  6  2  1  7  8\n",
      "Backtracking found the solution in 0.09726405143737793 seconds.\n"
     ]
    }
   ],
   "source": [
    "board2 = boards[57][1]\n",
    "\n",
    "game3 = SudokuGame(board2.copy())\n",
    "game3.printBoard()\n",
    "print('\\n')\n",
    "\n",
    "# run backtracking\n",
    "solution, timeElapsed = backtrackingSearch(game3)\n",
    "print(f\"Backtracking found the solution in {timeElapsed} seconds.\")"
   ]
  },
  {
   "cell_type": "markdown",
   "metadata": {},
   "source": [
    "Backtracking search is much faster than minConflicts, and it's guaranteed to find a solution. However, it fills in each empty value in order of its appearance on the board. While this is a consistent approach, it might not be the most efficient..."
   ]
  },
  {
   "cell_type": "markdown",
   "metadata": {},
   "source": [
    "...which brings us to the last solver agent: <code>constraintProp</code>. This algorithm keeps record of all possible candidates for each empty cell on the board. Then, it recursively assigns values to the cell with the fewest candidate, and *propagates* the *constraints* after each assignment."
   ]
  },
  {
   "cell_type": "code",
   "execution_count": 17,
   "metadata": {},
   "outputs": [
    {
     "name": "stdout",
     "output_type": "stream",
     "text": [
      "Solution found in 57 steps.\n",
      " 5  3  4  6  7  8  9  1  2\n",
      " 1  7  8  2  9  5  4  6  3\n",
      " 6  9  2  3  4  1  8  5  7\n",
      " 8  5  9  7  6  4  3  2  1\n",
      " 4  2  6  1  5  3  7  9  8\n",
      " 7  1  3  8  2  9  5  4  6\n",
      " 2  4  1  5  3  7  6  8  9\n",
      " 9  8  7  4  1  6  2  3  5\n",
      " 3  6  5  9  8  2  1  7  4\n",
      "Constraint propagation found the solution in 0.04378795623779297 seconds.\n"
     ]
    }
   ],
   "source": [
    "game4 = SudokuGame(board2.copy())\n",
    "\n",
    "# run constraint propagation\n",
    "solution, timeElapsed = constraintProp(game4)\n",
    "print(f\"Constraint propagation found the solution in {timeElapsed} seconds.\")"
   ]
  },
  {
   "cell_type": "markdown",
   "metadata": {},
   "source": [
    "<code>constraintProp</code> is observably faster than backtracking! To see how each of these algorithms compare, we can run some trials and plot the performance of each."
   ]
  },
  {
   "cell_type": "markdown",
   "metadata": {},
   "source": [
    "<h3>Comparing Performance</h3>"
   ]
  },
  {
   "cell_type": "markdown",
   "metadata": {},
   "source": [
    "The file <code>testBoards.pickle</code> contains a dictionary called <code>boards</code>. The keys of <code>boards</code> represent a certain number of missing spaces on a Sudoku board (i.e. a way to quantify the difficulty of the board). Each key maps to a list of ten boards with that many spaces missing.\n",
    "\n",
    "Note: <code>boards</code> only contains Sudoku boards with up to 57 blank spaces. This is because the New York Times' \"hard\" Sudoku puzzle has a maximum of 57 blank spaces :)"
   ]
  },
  {
   "cell_type": "markdown",
   "metadata": {},
   "source": [
    "The code used to generate <code>boards</code> is in the cell below:"
   ]
  },
  {
   "cell_type": "code",
   "execution_count": 19,
   "metadata": {},
   "outputs": [],
   "source": [
    "## Code used to generate solvable test boards\n",
    "# \n",
    "# testBoards = {i: list() for i in range(1,57)}\n",
    "# \n",
    "# for i in range(1,57):\n",
    "#     while len(testBoards[i]) < 10:\n",
    "#         game = SudokuGame(redactCells(sol1, i))\n",
    "#         board = copy.deepcopy(game.board)\n",
    "#         solution = backtrackingSearch(game)\n",
    "#         if solution is not None:\n",
    "#             testBoards[i].append(board)\n",
    "# \n",
    "# with open('testBoards.pickle', 'wb') as file:\n",
    "#     pickle.dump(testBoards, file, protocol=pickle.HIGHEST_PROTOCOL)"
   ]
  },
  {
   "cell_type": "markdown",
   "metadata": {},
   "source": [
    "To test the performance of local search, we can run <code>minConflicts</code> on each board and store the results in a <code>DataFrame</code>. The commented code below shows how to do this; but since this process took almost an hour to run, I've also included a CSV with the formatted data."
   ]
  },
  {
   "cell_type": "code",
   "execution_count": 22,
   "metadata": {},
   "outputs": [
    {
     "data": {
      "text/html": [
       "<div>\n",
       "<style scoped>\n",
       "    .dataframe tbody tr th:only-of-type {\n",
       "        vertical-align: middle;\n",
       "    }\n",
       "\n",
       "    .dataframe tbody tr th {\n",
       "        vertical-align: top;\n",
       "    }\n",
       "\n",
       "    .dataframe thead th {\n",
       "        text-align: right;\n",
       "    }\n",
       "</style>\n",
       "<table border=\"1\" class=\"dataframe\">\n",
       "  <thead>\n",
       "    <tr style=\"text-align: right;\">\n",
       "      <th></th>\n",
       "      <th>boardSize</th>\n",
       "      <th>conflicts</th>\n",
       "      <th>success</th>\n",
       "      <th>steps</th>\n",
       "    </tr>\n",
       "  </thead>\n",
       "  <tbody>\n",
       "    <tr>\n",
       "      <th>0</th>\n",
       "      <td>1</td>\n",
       "      <td>[6, 0]</td>\n",
       "      <td>True</td>\n",
       "      <td>2</td>\n",
       "    </tr>\n",
       "    <tr>\n",
       "      <th>1</th>\n",
       "      <td>1</td>\n",
       "      <td>[6, 0]</td>\n",
       "      <td>True</td>\n",
       "      <td>2</td>\n",
       "    </tr>\n",
       "    <tr>\n",
       "      <th>2</th>\n",
       "      <td>1</td>\n",
       "      <td>[6, 0]</td>\n",
       "      <td>True</td>\n",
       "      <td>2</td>\n",
       "    </tr>\n",
       "    <tr>\n",
       "      <th>3</th>\n",
       "      <td>1</td>\n",
       "      <td>[6, 0]</td>\n",
       "      <td>True</td>\n",
       "      <td>2</td>\n",
       "    </tr>\n",
       "    <tr>\n",
       "      <th>4</th>\n",
       "      <td>1</td>\n",
       "      <td>[6, 0]</td>\n",
       "      <td>True</td>\n",
       "      <td>2</td>\n",
       "    </tr>\n",
       "    <tr>\n",
       "      <th>...</th>\n",
       "      <td>...</td>\n",
       "      <td>...</td>\n",
       "      <td>...</td>\n",
       "      <td>...</td>\n",
       "    </tr>\n",
       "    <tr>\n",
       "      <th>295</th>\n",
       "      <td>30</td>\n",
       "      <td>[126, 126, 124, 122, 116, 112, 108, 106, 106, ...</td>\n",
       "      <td>False</td>\n",
       "      <td>5000</td>\n",
       "    </tr>\n",
       "    <tr>\n",
       "      <th>296</th>\n",
       "      <td>30</td>\n",
       "      <td>[128, 124, 124, 120, 116, 114, 114, 110, 106, ...</td>\n",
       "      <td>False</td>\n",
       "      <td>5000</td>\n",
       "    </tr>\n",
       "    <tr>\n",
       "      <th>297</th>\n",
       "      <td>30</td>\n",
       "      <td>[134, 132, 122, 120, 116, 104, 104, 104, 104, ...</td>\n",
       "      <td>True</td>\n",
       "      <td>1178</td>\n",
       "    </tr>\n",
       "    <tr>\n",
       "      <th>298</th>\n",
       "      <td>30</td>\n",
       "      <td>[160, 152, 146, 134, 132, 132, 128, 128, 124, ...</td>\n",
       "      <td>True</td>\n",
       "      <td>782</td>\n",
       "    </tr>\n",
       "    <tr>\n",
       "      <th>299</th>\n",
       "      <td>30</td>\n",
       "      <td>[124, 122, 118, 114, 110, 110, 110, 104, 102, ...</td>\n",
       "      <td>False</td>\n",
       "      <td>5000</td>\n",
       "    </tr>\n",
       "  </tbody>\n",
       "</table>\n",
       "<p>300 rows × 4 columns</p>\n",
       "</div>"
      ],
      "text/plain": [
       "     boardSize                                          conflicts  success  \\\n",
       "0            1                                             [6, 0]     True   \n",
       "1            1                                             [6, 0]     True   \n",
       "2            1                                             [6, 0]     True   \n",
       "3            1                                             [6, 0]     True   \n",
       "4            1                                             [6, 0]     True   \n",
       "..         ...                                                ...      ...   \n",
       "295         30  [126, 126, 124, 122, 116, 112, 108, 106, 106, ...    False   \n",
       "296         30  [128, 124, 124, 120, 116, 114, 114, 110, 106, ...    False   \n",
       "297         30  [134, 132, 122, 120, 116, 104, 104, 104, 104, ...     True   \n",
       "298         30  [160, 152, 146, 134, 132, 132, 128, 128, 124, ...     True   \n",
       "299         30  [124, 122, 118, 114, 110, 110, 110, 104, 102, ...    False   \n",
       "\n",
       "     steps  \n",
       "0        2  \n",
       "1        2  \n",
       "2        2  \n",
       "3        2  \n",
       "4        2  \n",
       "..     ...  \n",
       "295   5000  \n",
       "296   5000  \n",
       "297   1178  \n",
       "298    782  \n",
       "299   5000  \n",
       "\n",
       "[300 rows x 4 columns]"
      ]
     },
     "execution_count": 22,
     "metadata": {},
     "output_type": "execute_result"
    }
   ],
   "source": [
    "# minConflictRuns = pd.DataFrame(columns=['boardSize', 'conflicts'], index=np.arange(300))\n",
    "# run = 0\n",
    "# for size in tqdm(boards, desc=\"Sizes\"):\n",
    "#     for i in tqdm(range(10), desc=f\"Iterating over size {size}\"):\n",
    "#         game = SudokuGame(boards[size][i].copy())\n",
    "#         minConflictRuns.boardSize[run] = size\n",
    "#         minConflictRuns.conflicts[run] = minConflicts(game, maxSteps=5000, plateauThreshold=20, printOutput=False)\n",
    "#         run += 1\n",
    "\n",
    "# for i in minConflictRuns.index:\n",
    "#     if minConflictRuns.loc[i, 'conflicts'][-1] == 0:\n",
    "#         minConflictRuns.loc[i, 'success'] = True  # create a success column\n",
    "#     minConflictRuns.loc[i, 'steps'] = len(minConflictRuns.loc[i, 'conflicts'])  # get the number of steps\n",
    "\n",
    "# minConflictRuns.to_csv('minConflictRuns.csv')\n",
    "\n",
    "minConflictRuns = pd.read_csv('minConflictRuns.csv', index_col=0)\n",
    "minConflictRuns"
   ]
  },
  {
   "cell_type": "markdown",
   "metadata": {},
   "source": [
    "Let's plot the average number of steps that <code>minConflicts</code> took for each puzzle."
   ]
  },
  {
   "cell_type": "code",
   "execution_count": 23,
   "metadata": {},
   "outputs": [
    {
     "data": {
      "text/plain": [
       "Text(0, 0.5, 'Average steps taken')"
      ]
     },
     "execution_count": 23,
     "metadata": {},
     "output_type": "execute_result"
    },
    {
     "data": {
      "image/png": "[encoded data removed]",
      "text/plain": [
       "<Figure size 640x480 with 1 Axes>"
      ]
     },
     "metadata": {},
     "output_type": "display_data"
    }
   ],
   "source": [
    "plt.plot(minConflictRuns.groupby('boardSize')['steps'].mean())\n",
    "plt.title('Average number of steps taken by minConflicts on puzzles of varying difficulty')\n",
    "plt.xlabel('Number of missing cells on board')\n",
    "plt.ylabel('Average steps taken')"
   ]
  }
 ],
 "metadata": {
  "kernelspec": {
   "display_name": "Python 3",
   "language": "python",
   "name": "python3"
  },
  "language_info": {
   "codemirror_mode": {
    "name": "ipython",
    "version": 3
   },
   "file_extension": ".py",
   "mimetype": "text/x-python",
   "name": "python",
   "nbconvert_exporter": "python",
   "pygments_lexer": "ipython3",
   "version": "3.11.4"
  }
 },
 "nbformat": 4,
 "nbformat_minor": 2
}
